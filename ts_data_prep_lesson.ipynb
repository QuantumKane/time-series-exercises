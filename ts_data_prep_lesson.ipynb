{
 "cells": [
  {
   "cell_type": "code",
   "execution_count": 1,
   "metadata": {},
   "outputs": [],
   "source": [
    "import pandas as pd\n",
    "from datetime import timedelta, datetime\n",
    "import numpy as np\n",
    "import matplotlib.pyplot as plt\n",
    "\n",
    "import warnings\n",
    "warnings.filterwarnings(\"ignore\")\n",
    "\n",
    "import acquire\n",
    "import prepare"
   ]
  },
  {
   "cell_type": "markdown",
   "metadata": {},
   "source": [
    "## Store data"
   ]
  },
  {
   "cell_type": "code",
   "execution_count": 2,
   "metadata": {},
   "outputs": [
    {
     "data": {
      "text/html": [
       "<div>\n",
       "<style scoped>\n",
       "    .dataframe tbody tr th:only-of-type {\n",
       "        vertical-align: middle;\n",
       "    }\n",
       "\n",
       "    .dataframe tbody tr th {\n",
       "        vertical-align: top;\n",
       "    }\n",
       "\n",
       "    .dataframe thead th {\n",
       "        text-align: right;\n",
       "    }\n",
       "</style>\n",
       "<table border=\"1\" class=\"dataframe\">\n",
       "  <thead>\n",
       "    <tr style=\"text-align: right;\">\n",
       "      <th></th>\n",
       "      <th>sale_amount</th>\n",
       "      <th>sale_date</th>\n",
       "      <th>sale_id</th>\n",
       "      <th>store_address</th>\n",
       "      <th>store_city</th>\n",
       "      <th>store_id</th>\n",
       "      <th>store_state</th>\n",
       "      <th>store_zipcode</th>\n",
       "      <th>item_brand</th>\n",
       "      <th>item_id</th>\n",
       "      <th>item_name</th>\n",
       "      <th>item_price</th>\n",
       "      <th>item_upc12</th>\n",
       "      <th>item_upc14</th>\n",
       "    </tr>\n",
       "  </thead>\n",
       "  <tbody>\n",
       "    <tr>\n",
       "      <td>0</td>\n",
       "      <td>13.0</td>\n",
       "      <td>Tue, 01 Jan 2013 00:00:00 GMT</td>\n",
       "      <td>1</td>\n",
       "      <td>12125 Alamo Ranch Pkwy</td>\n",
       "      <td>San Antonio</td>\n",
       "      <td>1</td>\n",
       "      <td>TX</td>\n",
       "      <td>78253</td>\n",
       "      <td>Riceland</td>\n",
       "      <td>1</td>\n",
       "      <td>Riceland American Jazmine Rice</td>\n",
       "      <td>0.84</td>\n",
       "      <td>35200264013</td>\n",
       "      <td>35200264013</td>\n",
       "    </tr>\n",
       "    <tr>\n",
       "      <td>1</td>\n",
       "      <td>11.0</td>\n",
       "      <td>Wed, 02 Jan 2013 00:00:00 GMT</td>\n",
       "      <td>2</td>\n",
       "      <td>12125 Alamo Ranch Pkwy</td>\n",
       "      <td>San Antonio</td>\n",
       "      <td>1</td>\n",
       "      <td>TX</td>\n",
       "      <td>78253</td>\n",
       "      <td>Riceland</td>\n",
       "      <td>1</td>\n",
       "      <td>Riceland American Jazmine Rice</td>\n",
       "      <td>0.84</td>\n",
       "      <td>35200264013</td>\n",
       "      <td>35200264013</td>\n",
       "    </tr>\n",
       "    <tr>\n",
       "      <td>2</td>\n",
       "      <td>14.0</td>\n",
       "      <td>Thu, 03 Jan 2013 00:00:00 GMT</td>\n",
       "      <td>3</td>\n",
       "      <td>12125 Alamo Ranch Pkwy</td>\n",
       "      <td>San Antonio</td>\n",
       "      <td>1</td>\n",
       "      <td>TX</td>\n",
       "      <td>78253</td>\n",
       "      <td>Riceland</td>\n",
       "      <td>1</td>\n",
       "      <td>Riceland American Jazmine Rice</td>\n",
       "      <td>0.84</td>\n",
       "      <td>35200264013</td>\n",
       "      <td>35200264013</td>\n",
       "    </tr>\n",
       "  </tbody>\n",
       "</table>\n",
       "</div>"
      ],
      "text/plain": [
       "   sale_amount                      sale_date  sale_id  \\\n",
       "0         13.0  Tue, 01 Jan 2013 00:00:00 GMT        1   \n",
       "1         11.0  Wed, 02 Jan 2013 00:00:00 GMT        2   \n",
       "2         14.0  Thu, 03 Jan 2013 00:00:00 GMT        3   \n",
       "\n",
       "            store_address   store_city  store_id store_state  store_zipcode  \\\n",
       "0  12125 Alamo Ranch Pkwy  San Antonio         1          TX          78253   \n",
       "1  12125 Alamo Ranch Pkwy  San Antonio         1          TX          78253   \n",
       "2  12125 Alamo Ranch Pkwy  San Antonio         1          TX          78253   \n",
       "\n",
       "  item_brand  item_id                       item_name  item_price  \\\n",
       "0   Riceland        1  Riceland American Jazmine Rice        0.84   \n",
       "1   Riceland        1  Riceland American Jazmine Rice        0.84   \n",
       "2   Riceland        1  Riceland American Jazmine Rice        0.84   \n",
       "\n",
       "    item_upc12   item_upc14  \n",
       "0  35200264013  35200264013  \n",
       "1  35200264013  35200264013  \n",
       "2  35200264013  35200264013  "
      ]
     },
     "execution_count": 2,
     "metadata": {},
     "output_type": "execute_result"
    }
   ],
   "source": [
    "# Get the data from acquire.py\n",
    "\n",
    "df = acquire.get_store_data()\n",
    "df.head(3)"
   ]
  },
  {
   "cell_type": "markdown",
   "metadata": {},
   "source": [
    "### 1. Convert date column to datetime format."
   ]
  },
  {
   "cell_type": "code",
   "execution_count": 3,
   "metadata": {},
   "outputs": [],
   "source": [
    "# Convert to datetime \n",
    "\n",
    "df.sale_date = pd.to_datetime(df.sale_date, format='%a, %d %b %Y %H:%M:%S %Z')"
   ]
  },
  {
   "cell_type": "markdown",
   "metadata": {},
   "source": [
    "### 2. Plot the distribution of sale_amount and item_price."
   ]
  },
  {
   "cell_type": "code",
   "execution_count": 4,
   "metadata": {},
   "outputs": [
    {
     "data": {
      "text/plain": [
       "<matplotlib.axes._subplots.AxesSubplot at 0x7f8aa6dc8dd0>"
      ]
     },
     "execution_count": 4,
     "metadata": {},
     "output_type": "execute_result"
    },
    {
     "data": {
      "image/png": "[encoded data removed]",
      "text/plain": [
       "<Figure size 432x288 with 1 Axes>"
      ]
     },
     "metadata": {
      "needs_background": "light"
     },
     "output_type": "display_data"
    }
   ],
   "source": [
    "# Histogram of sale_amount\n",
    "\n",
    "df.sale_amount.hist()"
   ]
  },
  {
   "cell_type": "code",
   "execution_count": 5,
   "metadata": {},
   "outputs": [
    {
     "data": {
      "text/plain": [
       "<matplotlib.axes._subplots.AxesSubplot at 0x7f8aaa884b10>"
      ]
     },
     "execution_count": 5,
     "metadata": {},
     "output_type": "execute_result"
    },
    {
     "data": {
      "image/png": "[encoded data removed]",
      "text/plain": [
       "<Figure size 432x288 with 1 Axes>"
      ]
     },
     "metadata": {
      "needs_background": "light"
     },
     "output_type": "display_data"
    }
   ],
   "source": [
    "# Histogram of item_price\n",
    "\n",
    "df.item_price.hist()"
   ]
  },
  {
   "cell_type": "markdown",
   "metadata": {},
   "source": [
    "### 3. Convert sale_date to index for time series analysis"
   ]
  },
  {
   "cell_type": "code",
   "execution_count": 6,
   "metadata": {},
   "outputs": [
    {
     "data": {
      "text/html": [
       "<div>\n",
       "<style scoped>\n",
       "    .dataframe tbody tr th:only-of-type {\n",
       "        vertical-align: middle;\n",
       "    }\n",
       "\n",
       "    .dataframe tbody tr th {\n",
       "        vertical-align: top;\n",
       "    }\n",
       "\n",
       "    .dataframe thead th {\n",
       "        text-align: right;\n",
       "    }\n",
       "</style>\n",
       "<table border=\"1\" class=\"dataframe\">\n",
       "  <thead>\n",
       "    <tr style=\"text-align: right;\">\n",
       "      <th></th>\n",
       "      <th>sale_amount</th>\n",
       "      <th>sale_id</th>\n",
       "      <th>store_address</th>\n",
       "      <th>store_city</th>\n",
       "      <th>store_id</th>\n",
       "      <th>store_state</th>\n",
       "      <th>store_zipcode</th>\n",
       "      <th>item_brand</th>\n",
       "      <th>item_id</th>\n",
       "      <th>item_name</th>\n",
       "      <th>item_price</th>\n",
       "      <th>item_upc12</th>\n",
       "      <th>item_upc14</th>\n",
       "    </tr>\n",
       "    <tr>\n",
       "      <th>sale_date</th>\n",
       "      <th></th>\n",
       "      <th></th>\n",
       "      <th></th>\n",
       "      <th></th>\n",
       "      <th></th>\n",
       "      <th></th>\n",
       "      <th></th>\n",
       "      <th></th>\n",
       "      <th></th>\n",
       "      <th></th>\n",
       "      <th></th>\n",
       "      <th></th>\n",
       "      <th></th>\n",
       "    </tr>\n",
       "  </thead>\n",
       "  <tbody>\n",
       "    <tr>\n",
       "      <td>2013-01-01 00:00:00+00:00</td>\n",
       "      <td>13.0</td>\n",
       "      <td>1</td>\n",
       "      <td>12125 Alamo Ranch Pkwy</td>\n",
       "      <td>San Antonio</td>\n",
       "      <td>1</td>\n",
       "      <td>TX</td>\n",
       "      <td>78253</td>\n",
       "      <td>Riceland</td>\n",
       "      <td>1</td>\n",
       "      <td>Riceland American Jazmine Rice</td>\n",
       "      <td>0.84</td>\n",
       "      <td>35200264013</td>\n",
       "      <td>35200264013</td>\n",
       "    </tr>\n",
       "    <tr>\n",
       "      <td>2013-01-01 00:00:00+00:00</td>\n",
       "      <td>26.0</td>\n",
       "      <td>211817</td>\n",
       "      <td>12018 Perrin Beitel Rd</td>\n",
       "      <td>San Antonio</td>\n",
       "      <td>7</td>\n",
       "      <td>TX</td>\n",
       "      <td>78217</td>\n",
       "      <td>Mueller</td>\n",
       "      <td>12</td>\n",
       "      <td>Mueller Sport Care Basic Support Level Medium ...</td>\n",
       "      <td>8.40</td>\n",
       "      <td>74676640211</td>\n",
       "      <td>74676640211</td>\n",
       "    </tr>\n",
       "  </tbody>\n",
       "</table>\n",
       "</div>"
      ],
      "text/plain": [
       "                           sale_amount  sale_id           store_address  \\\n",
       "sale_date                                                                 \n",
       "2013-01-01 00:00:00+00:00         13.0        1  12125 Alamo Ranch Pkwy   \n",
       "2013-01-01 00:00:00+00:00         26.0   211817  12018 Perrin Beitel Rd   \n",
       "\n",
       "                            store_city  store_id store_state  store_zipcode  \\\n",
       "sale_date                                                                     \n",
       "2013-01-01 00:00:00+00:00  San Antonio         1          TX          78253   \n",
       "2013-01-01 00:00:00+00:00  San Antonio         7          TX          78217   \n",
       "\n",
       "                          item_brand  item_id  \\\n",
       "sale_date                                       \n",
       "2013-01-01 00:00:00+00:00   Riceland        1   \n",
       "2013-01-01 00:00:00+00:00    Mueller       12   \n",
       "\n",
       "                                                                   item_name  \\\n",
       "sale_date                                                                      \n",
       "2013-01-01 00:00:00+00:00                     Riceland American Jazmine Rice   \n",
       "2013-01-01 00:00:00+00:00  Mueller Sport Care Basic Support Level Medium ...   \n",
       "\n",
       "                           item_price   item_upc12   item_upc14  \n",
       "sale_date                                                        \n",
       "2013-01-01 00:00:00+00:00        0.84  35200264013  35200264013  \n",
       "2013-01-01 00:00:00+00:00        8.40  74676640211  74676640211  "
      ]
     },
     "execution_count": 6,
     "metadata": {},
     "output_type": "execute_result"
    }
   ],
   "source": [
    "# Make sales_date the index\n",
    "\n",
    "df = df.set_index('sale_date').sort_index()\n",
    "df.head(2)"
   ]
  },
  {
   "cell_type": "markdown",
   "metadata": {},
   "source": [
    "### 4. Add a 'month' and 'day of week' column to your dataframe."
   ]
  },
  {
   "cell_type": "code",
   "execution_count": 7,
   "metadata": {},
   "outputs": [
    {
     "data": {
      "text/html": [
       "<div>\n",
       "<style scoped>\n",
       "    .dataframe tbody tr th:only-of-type {\n",
       "        vertical-align: middle;\n",
       "    }\n",
       "\n",
       "    .dataframe tbody tr th {\n",
       "        vertical-align: top;\n",
       "    }\n",
       "\n",
       "    .dataframe thead th {\n",
       "        text-align: right;\n",
       "    }\n",
       "</style>\n",
       "<table border=\"1\" class=\"dataframe\">\n",
       "  <thead>\n",
       "    <tr style=\"text-align: right;\">\n",
       "      <th></th>\n",
       "      <th>sale_amount</th>\n",
       "      <th>sale_id</th>\n",
       "      <th>store_address</th>\n",
       "      <th>store_city</th>\n",
       "      <th>store_id</th>\n",
       "      <th>store_state</th>\n",
       "      <th>store_zipcode</th>\n",
       "      <th>item_brand</th>\n",
       "      <th>item_id</th>\n",
       "      <th>item_name</th>\n",
       "      <th>item_price</th>\n",
       "      <th>item_upc12</th>\n",
       "      <th>item_upc14</th>\n",
       "      <th>month</th>\n",
       "      <th>day_of_week</th>\n",
       "    </tr>\n",
       "    <tr>\n",
       "      <th>sale_date</th>\n",
       "      <th></th>\n",
       "      <th></th>\n",
       "      <th></th>\n",
       "      <th></th>\n",
       "      <th></th>\n",
       "      <th></th>\n",
       "      <th></th>\n",
       "      <th></th>\n",
       "      <th></th>\n",
       "      <th></th>\n",
       "      <th></th>\n",
       "      <th></th>\n",
       "      <th></th>\n",
       "      <th></th>\n",
       "      <th></th>\n",
       "    </tr>\n",
       "  </thead>\n",
       "  <tbody>\n",
       "    <tr>\n",
       "      <td>2013-01-01 00:00:00+00:00</td>\n",
       "      <td>13.0</td>\n",
       "      <td>1</td>\n",
       "      <td>12125 Alamo Ranch Pkwy</td>\n",
       "      <td>San Antonio</td>\n",
       "      <td>1</td>\n",
       "      <td>TX</td>\n",
       "      <td>78253</td>\n",
       "      <td>Riceland</td>\n",
       "      <td>1</td>\n",
       "      <td>Riceland American Jazmine Rice</td>\n",
       "      <td>0.84</td>\n",
       "      <td>35200264013</td>\n",
       "      <td>35200264013</td>\n",
       "      <td>1</td>\n",
       "      <td>Tuesday</td>\n",
       "    </tr>\n",
       "    <tr>\n",
       "      <td>2013-01-01 00:00:00+00:00</td>\n",
       "      <td>26.0</td>\n",
       "      <td>211817</td>\n",
       "      <td>12018 Perrin Beitel Rd</td>\n",
       "      <td>San Antonio</td>\n",
       "      <td>7</td>\n",
       "      <td>TX</td>\n",
       "      <td>78217</td>\n",
       "      <td>Mueller</td>\n",
       "      <td>12</td>\n",
       "      <td>Mueller Sport Care Basic Support Level Medium ...</td>\n",
       "      <td>8.40</td>\n",
       "      <td>74676640211</td>\n",
       "      <td>74676640211</td>\n",
       "      <td>1</td>\n",
       "      <td>Tuesday</td>\n",
       "    </tr>\n",
       "  </tbody>\n",
       "</table>\n",
       "</div>"
      ],
      "text/plain": [
       "                           sale_amount  sale_id           store_address  \\\n",
       "sale_date                                                                 \n",
       "2013-01-01 00:00:00+00:00         13.0        1  12125 Alamo Ranch Pkwy   \n",
       "2013-01-01 00:00:00+00:00         26.0   211817  12018 Perrin Beitel Rd   \n",
       "\n",
       "                            store_city  store_id store_state  store_zipcode  \\\n",
       "sale_date                                                                     \n",
       "2013-01-01 00:00:00+00:00  San Antonio         1          TX          78253   \n",
       "2013-01-01 00:00:00+00:00  San Antonio         7          TX          78217   \n",
       "\n",
       "                          item_brand  item_id  \\\n",
       "sale_date                                       \n",
       "2013-01-01 00:00:00+00:00   Riceland        1   \n",
       "2013-01-01 00:00:00+00:00    Mueller       12   \n",
       "\n",
       "                                                                   item_name  \\\n",
       "sale_date                                                                      \n",
       "2013-01-01 00:00:00+00:00                     Riceland American Jazmine Rice   \n",
       "2013-01-01 00:00:00+00:00  Mueller Sport Care Basic Support Level Medium ...   \n",
       "\n",
       "                           item_price   item_upc12   item_upc14  month  \\\n",
       "sale_date                                                                \n",
       "2013-01-01 00:00:00+00:00        0.84  35200264013  35200264013      1   \n",
       "2013-01-01 00:00:00+00:00        8.40  74676640211  74676640211      1   \n",
       "\n",
       "                          day_of_week  \n",
       "sale_date                              \n",
       "2013-01-01 00:00:00+00:00     Tuesday  \n",
       "2013-01-01 00:00:00+00:00     Tuesday  "
      ]
     },
     "execution_count": 7,
     "metadata": {},
     "output_type": "execute_result"
    }
   ],
   "source": [
    "# Add 2 new columns to df: month and day_of_week\n",
    "\n",
    "df['month'] = df.index.month\n",
    "df['day_of_week'] = df.index.day_name()\n",
    "df.head(2)"
   ]
  },
  {
   "cell_type": "markdown",
   "metadata": {},
   "source": [
    "### 5. Add a column to your dataframe, sales_total, which is a derived from sale_amount (total items) and item_price."
   ]
  },
  {
   "cell_type": "code",
   "execution_count": 8,
   "metadata": {},
   "outputs": [
    {
     "data": {
      "text/html": [
       "<div>\n",
       "<style scoped>\n",
       "    .dataframe tbody tr th:only-of-type {\n",
       "        vertical-align: middle;\n",
       "    }\n",
       "\n",
       "    .dataframe tbody tr th {\n",
       "        vertical-align: top;\n",
       "    }\n",
       "\n",
       "    .dataframe thead th {\n",
       "        text-align: right;\n",
       "    }\n",
       "</style>\n",
       "<table border=\"1\" class=\"dataframe\">\n",
       "  <thead>\n",
       "    <tr style=\"text-align: right;\">\n",
       "      <th></th>\n",
       "      <th>sale_amount</th>\n",
       "      <th>sale_id</th>\n",
       "      <th>store_address</th>\n",
       "      <th>store_city</th>\n",
       "      <th>store_id</th>\n",
       "      <th>store_state</th>\n",
       "      <th>store_zipcode</th>\n",
       "      <th>item_brand</th>\n",
       "      <th>item_id</th>\n",
       "      <th>item_name</th>\n",
       "      <th>item_price</th>\n",
       "      <th>item_upc12</th>\n",
       "      <th>item_upc14</th>\n",
       "      <th>month</th>\n",
       "      <th>day_of_week</th>\n",
       "      <th>sales_total</th>\n",
       "    </tr>\n",
       "    <tr>\n",
       "      <th>sale_date</th>\n",
       "      <th></th>\n",
       "      <th></th>\n",
       "      <th></th>\n",
       "      <th></th>\n",
       "      <th></th>\n",
       "      <th></th>\n",
       "      <th></th>\n",
       "      <th></th>\n",
       "      <th></th>\n",
       "      <th></th>\n",
       "      <th></th>\n",
       "      <th></th>\n",
       "      <th></th>\n",
       "      <th></th>\n",
       "      <th></th>\n",
       "      <th></th>\n",
       "    </tr>\n",
       "  </thead>\n",
       "  <tbody>\n",
       "    <tr>\n",
       "      <td>2013-01-01 00:00:00+00:00</td>\n",
       "      <td>13.0</td>\n",
       "      <td>1</td>\n",
       "      <td>12125 Alamo Ranch Pkwy</td>\n",
       "      <td>San Antonio</td>\n",
       "      <td>1</td>\n",
       "      <td>TX</td>\n",
       "      <td>78253</td>\n",
       "      <td>Riceland</td>\n",
       "      <td>1</td>\n",
       "      <td>Riceland American Jazmine Rice</td>\n",
       "      <td>0.84</td>\n",
       "      <td>35200264013</td>\n",
       "      <td>35200264013</td>\n",
       "      <td>1</td>\n",
       "      <td>Tuesday</td>\n",
       "      <td>10.92</td>\n",
       "    </tr>\n",
       "    <tr>\n",
       "      <td>2013-01-01 00:00:00+00:00</td>\n",
       "      <td>26.0</td>\n",
       "      <td>211817</td>\n",
       "      <td>12018 Perrin Beitel Rd</td>\n",
       "      <td>San Antonio</td>\n",
       "      <td>7</td>\n",
       "      <td>TX</td>\n",
       "      <td>78217</td>\n",
       "      <td>Mueller</td>\n",
       "      <td>12</td>\n",
       "      <td>Mueller Sport Care Basic Support Level Medium ...</td>\n",
       "      <td>8.40</td>\n",
       "      <td>74676640211</td>\n",
       "      <td>74676640211</td>\n",
       "      <td>1</td>\n",
       "      <td>Tuesday</td>\n",
       "      <td>218.40</td>\n",
       "    </tr>\n",
       "  </tbody>\n",
       "</table>\n",
       "</div>"
      ],
      "text/plain": [
       "                           sale_amount  sale_id           store_address  \\\n",
       "sale_date                                                                 \n",
       "2013-01-01 00:00:00+00:00         13.0        1  12125 Alamo Ranch Pkwy   \n",
       "2013-01-01 00:00:00+00:00         26.0   211817  12018 Perrin Beitel Rd   \n",
       "\n",
       "                            store_city  store_id store_state  store_zipcode  \\\n",
       "sale_date                                                                     \n",
       "2013-01-01 00:00:00+00:00  San Antonio         1          TX          78253   \n",
       "2013-01-01 00:00:00+00:00  San Antonio         7          TX          78217   \n",
       "\n",
       "                          item_brand  item_id  \\\n",
       "sale_date                                       \n",
       "2013-01-01 00:00:00+00:00   Riceland        1   \n",
       "2013-01-01 00:00:00+00:00    Mueller       12   \n",
       "\n",
       "                                                                   item_name  \\\n",
       "sale_date                                                                      \n",
       "2013-01-01 00:00:00+00:00                     Riceland American Jazmine Rice   \n",
       "2013-01-01 00:00:00+00:00  Mueller Sport Care Basic Support Level Medium ...   \n",
       "\n",
       "                           item_price   item_upc12   item_upc14  month  \\\n",
       "sale_date                                                                \n",
       "2013-01-01 00:00:00+00:00        0.84  35200264013  35200264013      1   \n",
       "2013-01-01 00:00:00+00:00        8.40  74676640211  74676640211      1   \n",
       "\n",
       "                          day_of_week  sales_total  \n",
       "sale_date                                           \n",
       "2013-01-01 00:00:00+00:00     Tuesday        10.92  \n",
       "2013-01-01 00:00:00+00:00     Tuesday       218.40  "
      ]
     },
     "execution_count": 8,
     "metadata": {},
     "output_type": "execute_result"
    }
   ],
   "source": [
    "# Add column for sales_total to df\n",
    "\n",
    "df['sales_total'] = df.sale_amount * df.item_price\n",
    "df.head(2)"
   ]
  },
  {
   "cell_type": "markdown",
   "metadata": {},
   "source": [
    "### 6. Make it reproducable"
   ]
  },
  {
   "cell_type": "code",
   "execution_count": 9,
   "metadata": {},
   "outputs": [
    {
     "data": {
      "image/png": "[encoded data removed]",
      "text/plain": [
       "<Figure size 432x288 with 1 Axes>"
      ]
     },
     "metadata": {
      "needs_background": "light"
     },
     "output_type": "display_data"
    },
    {
     "data": {
      "image/png": "[encoded data removed]",
      "text/plain": [
       "<Figure size 432x288 with 1 Axes>"
      ]
     },
     "metadata": {
      "needs_background": "light"
     },
     "output_type": "display_data"
    },
    {
     "name": "stdout",
     "output_type": "stream",
     "text": [
      "                           sale_amount  sale_id           store_address  \\\n",
      "sale_date                                                                 \n",
      "2013-01-01 00:00:00+00:00         13.0        1  12125 Alamo Ranch Pkwy   \n",
      "2013-01-01 00:00:00+00:00         26.0   211817  12018 Perrin Beitel Rd   \n",
      "2013-01-01 00:00:00+00:00         27.0   832657  12018 Perrin Beitel Rd   \n",
      "2013-01-01 00:00:00+00:00         54.0   213643     15000 San Pedro Ave   \n",
      "2013-01-01 00:00:00+00:00         35.0   215469      735 SW Military Dr   \n",
      "\n",
      "                            store_city  store_id store_state  store_zipcode  \\\n",
      "sale_date                                                                     \n",
      "2013-01-01 00:00:00+00:00  San Antonio         1          TX          78253   \n",
      "2013-01-01 00:00:00+00:00  San Antonio         7          TX          78217   \n",
      "2013-01-01 00:00:00+00:00  San Antonio         7          TX          78217   \n",
      "2013-01-01 00:00:00+00:00  San Antonio         8          TX          78232   \n",
      "2013-01-01 00:00:00+00:00  San Antonio         9          TX          78221   \n",
      "\n",
      "                           item_brand  item_id  \\\n",
      "sale_date                                        \n",
      "2013-01-01 00:00:00+00:00    Riceland        1   \n",
      "2013-01-01 00:00:00+00:00     Mueller       12   \n",
      "2013-01-01 00:00:00+00:00  Mama Marys       46   \n",
      "2013-01-01 00:00:00+00:00     Mueller       12   \n",
      "2013-01-01 00:00:00+00:00     Mueller       12   \n",
      "\n",
      "                                                                   item_name  \\\n",
      "sale_date                                                                      \n",
      "2013-01-01 00:00:00+00:00                     Riceland American Jazmine Rice   \n",
      "2013-01-01 00:00:00+00:00  Mueller Sport Care Basic Support Level Medium ...   \n",
      "2013-01-01 00:00:00+00:00                                        Pizza Sauce   \n",
      "2013-01-01 00:00:00+00:00  Mueller Sport Care Basic Support Level Medium ...   \n",
      "2013-01-01 00:00:00+00:00  Mueller Sport Care Basic Support Level Medium ...   \n",
      "\n",
      "                           item_price   item_upc12   item_upc14  month  \\\n",
      "sale_date                                                                \n",
      "2013-01-01 00:00:00+00:00        0.84  35200264013  35200264013      1   \n",
      "2013-01-01 00:00:00+00:00        8.40  74676640211  74676640211      1   \n",
      "2013-01-01 00:00:00+00:00        4.65  35457770664  35457770664      1   \n",
      "2013-01-01 00:00:00+00:00        8.40  74676640211  74676640211      1   \n",
      "2013-01-01 00:00:00+00:00        8.40  74676640211  74676640211      1   \n",
      "\n",
      "                          day_week  sales_total  \n",
      "sale_date                                        \n",
      "2013-01-01 00:00:00+00:00  Tuesday        10.92  \n",
      "2013-01-01 00:00:00+00:00  Tuesday       218.40  \n",
      "2013-01-01 00:00:00+00:00  Tuesday       125.55  \n",
      "2013-01-01 00:00:00+00:00  Tuesday       453.60  \n",
      "2013-01-01 00:00:00+00:00  Tuesday       294.00  \n"
     ]
    }
   ],
   "source": [
    "store = acquire.get_store_data()\n",
    "store_df = prepare.prep_store_data(store)"
   ]
  },
  {
   "cell_type": "markdown",
   "metadata": {},
   "source": [
    "## Germany data"
   ]
  },
  {
   "cell_type": "code",
   "execution_count": 10,
   "metadata": {},
   "outputs": [
    {
     "data": {
      "text/html": [
       "<div>\n",
       "<style scoped>\n",
       "    .dataframe tbody tr th:only-of-type {\n",
       "        vertical-align: middle;\n",
       "    }\n",
       "\n",
       "    .dataframe tbody tr th {\n",
       "        vertical-align: top;\n",
       "    }\n",
       "\n",
       "    .dataframe thead th {\n",
       "        text-align: right;\n",
       "    }\n",
       "</style>\n",
       "<table border=\"1\" class=\"dataframe\">\n",
       "  <thead>\n",
       "    <tr style=\"text-align: right;\">\n",
       "      <th></th>\n",
       "      <th>Date</th>\n",
       "      <th>Consumption</th>\n",
       "      <th>Wind</th>\n",
       "      <th>Solar</th>\n",
       "      <th>Wind+Solar</th>\n",
       "    </tr>\n",
       "  </thead>\n",
       "  <tbody>\n",
       "    <tr>\n",
       "      <td>0</td>\n",
       "      <td>2006-01-01</td>\n",
       "      <td>1069.18400</td>\n",
       "      <td>NaN</td>\n",
       "      <td>NaN</td>\n",
       "      <td>NaN</td>\n",
       "    </tr>\n",
       "    <tr>\n",
       "      <td>1</td>\n",
       "      <td>2006-01-02</td>\n",
       "      <td>1380.52100</td>\n",
       "      <td>NaN</td>\n",
       "      <td>NaN</td>\n",
       "      <td>NaN</td>\n",
       "    </tr>\n",
       "    <tr>\n",
       "      <td>2</td>\n",
       "      <td>2006-01-03</td>\n",
       "      <td>1442.53300</td>\n",
       "      <td>NaN</td>\n",
       "      <td>NaN</td>\n",
       "      <td>NaN</td>\n",
       "    </tr>\n",
       "    <tr>\n",
       "      <td>3</td>\n",
       "      <td>2006-01-04</td>\n",
       "      <td>1457.21700</td>\n",
       "      <td>NaN</td>\n",
       "      <td>NaN</td>\n",
       "      <td>NaN</td>\n",
       "    </tr>\n",
       "    <tr>\n",
       "      <td>4</td>\n",
       "      <td>2006-01-05</td>\n",
       "      <td>1477.13100</td>\n",
       "      <td>NaN</td>\n",
       "      <td>NaN</td>\n",
       "      <td>NaN</td>\n",
       "    </tr>\n",
       "    <tr>\n",
       "      <td>...</td>\n",
       "      <td>...</td>\n",
       "      <td>...</td>\n",
       "      <td>...</td>\n",
       "      <td>...</td>\n",
       "      <td>...</td>\n",
       "    </tr>\n",
       "    <tr>\n",
       "      <td>4378</td>\n",
       "      <td>2017-12-27</td>\n",
       "      <td>1263.94091</td>\n",
       "      <td>394.507</td>\n",
       "      <td>16.530</td>\n",
       "      <td>411.037</td>\n",
       "    </tr>\n",
       "    <tr>\n",
       "      <td>4379</td>\n",
       "      <td>2017-12-28</td>\n",
       "      <td>1299.86398</td>\n",
       "      <td>506.424</td>\n",
       "      <td>14.162</td>\n",
       "      <td>520.586</td>\n",
       "    </tr>\n",
       "    <tr>\n",
       "      <td>4380</td>\n",
       "      <td>2017-12-29</td>\n",
       "      <td>1295.08753</td>\n",
       "      <td>584.277</td>\n",
       "      <td>29.854</td>\n",
       "      <td>614.131</td>\n",
       "    </tr>\n",
       "    <tr>\n",
       "      <td>4381</td>\n",
       "      <td>2017-12-30</td>\n",
       "      <td>1215.44897</td>\n",
       "      <td>721.247</td>\n",
       "      <td>7.467</td>\n",
       "      <td>728.714</td>\n",
       "    </tr>\n",
       "    <tr>\n",
       "      <td>4382</td>\n",
       "      <td>2017-12-31</td>\n",
       "      <td>1107.11488</td>\n",
       "      <td>721.176</td>\n",
       "      <td>19.980</td>\n",
       "      <td>741.156</td>\n",
       "    </tr>\n",
       "  </tbody>\n",
       "</table>\n",
       "<p>4383 rows × 5 columns</p>\n",
       "</div>"
      ],
      "text/plain": [
       "            Date  Consumption     Wind   Solar  Wind+Solar\n",
       "0     2006-01-01   1069.18400      NaN     NaN         NaN\n",
       "1     2006-01-02   1380.52100      NaN     NaN         NaN\n",
       "2     2006-01-03   1442.53300      NaN     NaN         NaN\n",
       "3     2006-01-04   1457.21700      NaN     NaN         NaN\n",
       "4     2006-01-05   1477.13100      NaN     NaN         NaN\n",
       "...          ...          ...      ...     ...         ...\n",
       "4378  2017-12-27   1263.94091  394.507  16.530     411.037\n",
       "4379  2017-12-28   1299.86398  506.424  14.162     520.586\n",
       "4380  2017-12-29   1295.08753  584.277  29.854     614.131\n",
       "4381  2017-12-30   1215.44897  721.247   7.467     728.714\n",
       "4382  2017-12-31   1107.11488  721.176  19.980     741.156\n",
       "\n",
       "[4383 rows x 5 columns]"
      ]
     },
     "execution_count": 10,
     "metadata": {},
     "output_type": "execute_result"
    }
   ],
   "source": [
    "# Acquire the data\n",
    "\n",
    "opsd_df = acquire.opsd_germany_daily()\n",
    "opsd_df"
   ]
  },
  {
   "cell_type": "markdown",
   "metadata": {},
   "source": [
    "### 1. Convert date column to datetime format."
   ]
  },
  {
   "cell_type": "code",
   "execution_count": 11,
   "metadata": {},
   "outputs": [],
   "source": [
    "# Convert to datetime \n",
    "\n",
    "opsd_df.Date = pd.to_datetime(opsd_df.Date)"
   ]
  },
  {
   "cell_type": "markdown",
   "metadata": {},
   "source": [
    "### 2. Plot the distribution of each of your variables."
   ]
  },
  {
   "cell_type": "code",
   "execution_count": 12,
   "metadata": {},
   "outputs": [
    {
     "data": {
      "text/plain": [
       "<matplotlib.axes._subplots.AxesSubplot at 0x7f8a87c83e50>"
      ]
     },
     "execution_count": 12,
     "metadata": {},
     "output_type": "execute_result"
    },
    {
     "data": {
      "image/png": "[encoded data removed]",
      "text/plain": [
       "<Figure size 432x288 with 1 Axes>"
      ]
     },
     "metadata": {
      "needs_background": "light"
     },
     "output_type": "display_data"
    }
   ],
   "source": [
    "# Histogram of consumption\n",
    "\n",
    "opsd_df.Consumption.hist()"
   ]
  },
  {
   "cell_type": "code",
   "execution_count": 13,
   "metadata": {},
   "outputs": [
    {
     "data": {
      "text/plain": [
       "<matplotlib.axes._subplots.AxesSubplot at 0x7f8a88562f90>"
      ]
     },
     "execution_count": 13,
     "metadata": {},
     "output_type": "execute_result"
    },
    {
     "data": {
      "image/png": "[encoded data removed]",
      "text/plain": [
       "<Figure size 432x288 with 1 Axes>"
      ]
     },
     "metadata": {
      "needs_background": "light"
     },
     "output_type": "display_data"
    }
   ],
   "source": [
    "# Histogram of wind\n",
    "\n",
    "opsd_df.Wind.hist()"
   ]
  },
  {
   "cell_type": "code",
   "execution_count": 14,
   "metadata": {},
   "outputs": [
    {
     "data": {
      "text/plain": [
       "<matplotlib.axes._subplots.AxesSubplot at 0x7f8a87c99610>"
      ]
     },
     "execution_count": 14,
     "metadata": {},
     "output_type": "execute_result"
    },
    {
     "data": {
      "image/png": "[encoded data removed]",
      "text/plain": [
       "<Figure size 432x288 with 1 Axes>"
      ]
     },
     "metadata": {
      "needs_background": "light"
     },
     "output_type": "display_data"
    }
   ],
   "source": [
    "# Histogram of solar\n",
    "\n",
    "opsd_df.Solar.hist()"
   ]
  },
  {
   "cell_type": "code",
   "execution_count": 15,
   "metadata": {},
   "outputs": [
    {
     "data": {
      "text/plain": [
       "<matplotlib.axes._subplots.AxesSubplot at 0x7f8a72dfcc10>"
      ]
     },
     "execution_count": 15,
     "metadata": {},
     "output_type": "execute_result"
    },
    {
     "data": {
      "image/png": "[encoded data removed]",
      "text/plain": [
       "<Figure size 432x288 with 1 Axes>"
      ]
     },
     "metadata": {
      "needs_background": "light"
     },
     "output_type": "display_data"
    }
   ],
   "source": [
    "# Histogram of wind and solar\n",
    "\n",
    "opsd_df['Wind+Solar'].hist()"
   ]
  },
  {
   "cell_type": "markdown",
   "metadata": {},
   "source": [
    "### 3. Set the index to be the datetime variable."
   ]
  },
  {
   "cell_type": "code",
   "execution_count": 16,
   "metadata": {},
   "outputs": [
    {
     "data": {
      "text/html": [
       "<div>\n",
       "<style scoped>\n",
       "    .dataframe tbody tr th:only-of-type {\n",
       "        vertical-align: middle;\n",
       "    }\n",
       "\n",
       "    .dataframe tbody tr th {\n",
       "        vertical-align: top;\n",
       "    }\n",
       "\n",
       "    .dataframe thead th {\n",
       "        text-align: right;\n",
       "    }\n",
       "</style>\n",
       "<table border=\"1\" class=\"dataframe\">\n",
       "  <thead>\n",
       "    <tr style=\"text-align: right;\">\n",
       "      <th></th>\n",
       "      <th>Consumption</th>\n",
       "      <th>Wind</th>\n",
       "      <th>Solar</th>\n",
       "      <th>Wind+Solar</th>\n",
       "    </tr>\n",
       "    <tr>\n",
       "      <th>Date</th>\n",
       "      <th></th>\n",
       "      <th></th>\n",
       "      <th></th>\n",
       "      <th></th>\n",
       "    </tr>\n",
       "  </thead>\n",
       "  <tbody>\n",
       "    <tr>\n",
       "      <td>2006-01-01</td>\n",
       "      <td>1069.184</td>\n",
       "      <td>NaN</td>\n",
       "      <td>NaN</td>\n",
       "      <td>NaN</td>\n",
       "    </tr>\n",
       "    <tr>\n",
       "      <td>2006-01-02</td>\n",
       "      <td>1380.521</td>\n",
       "      <td>NaN</td>\n",
       "      <td>NaN</td>\n",
       "      <td>NaN</td>\n",
       "    </tr>\n",
       "    <tr>\n",
       "      <td>2006-01-03</td>\n",
       "      <td>1442.533</td>\n",
       "      <td>NaN</td>\n",
       "      <td>NaN</td>\n",
       "      <td>NaN</td>\n",
       "    </tr>\n",
       "    <tr>\n",
       "      <td>2006-01-04</td>\n",
       "      <td>1457.217</td>\n",
       "      <td>NaN</td>\n",
       "      <td>NaN</td>\n",
       "      <td>NaN</td>\n",
       "    </tr>\n",
       "    <tr>\n",
       "      <td>2006-01-05</td>\n",
       "      <td>1477.131</td>\n",
       "      <td>NaN</td>\n",
       "      <td>NaN</td>\n",
       "      <td>NaN</td>\n",
       "    </tr>\n",
       "  </tbody>\n",
       "</table>\n",
       "</div>"
      ],
      "text/plain": [
       "            Consumption  Wind  Solar  Wind+Solar\n",
       "Date                                            \n",
       "2006-01-01     1069.184   NaN    NaN         NaN\n",
       "2006-01-02     1380.521   NaN    NaN         NaN\n",
       "2006-01-03     1442.533   NaN    NaN         NaN\n",
       "2006-01-04     1457.217   NaN    NaN         NaN\n",
       "2006-01-05     1477.131   NaN    NaN         NaN"
      ]
     },
     "execution_count": 16,
     "metadata": {},
     "output_type": "execute_result"
    }
   ],
   "source": [
    "# Set date to be the index\n",
    "\n",
    "opsd_df = opsd_df.set_index('Date').sort_index()\n",
    "opsd_df.head()"
   ]
  },
  {
   "cell_type": "markdown",
   "metadata": {},
   "source": [
    "### 4. Add a month and a year column to your dataframe."
   ]
  },
  {
   "cell_type": "code",
   "execution_count": 17,
   "metadata": {},
   "outputs": [
    {
     "data": {
      "text/html": [
       "<div>\n",
       "<style scoped>\n",
       "    .dataframe tbody tr th:only-of-type {\n",
       "        vertical-align: middle;\n",
       "    }\n",
       "\n",
       "    .dataframe tbody tr th {\n",
       "        vertical-align: top;\n",
       "    }\n",
       "\n",
       "    .dataframe thead th {\n",
       "        text-align: right;\n",
       "    }\n",
       "</style>\n",
       "<table border=\"1\" class=\"dataframe\">\n",
       "  <thead>\n",
       "    <tr style=\"text-align: right;\">\n",
       "      <th></th>\n",
       "      <th>Consumption</th>\n",
       "      <th>Wind</th>\n",
       "      <th>Solar</th>\n",
       "      <th>Wind+Solar</th>\n",
       "      <th>Month</th>\n",
       "      <th>Year</th>\n",
       "    </tr>\n",
       "    <tr>\n",
       "      <th>Date</th>\n",
       "      <th></th>\n",
       "      <th></th>\n",
       "      <th></th>\n",
       "      <th></th>\n",
       "      <th></th>\n",
       "      <th></th>\n",
       "    </tr>\n",
       "  </thead>\n",
       "  <tbody>\n",
       "    <tr>\n",
       "      <td>2006-01-01</td>\n",
       "      <td>1069.184</td>\n",
       "      <td>NaN</td>\n",
       "      <td>NaN</td>\n",
       "      <td>NaN</td>\n",
       "      <td>1</td>\n",
       "      <td>2006</td>\n",
       "    </tr>\n",
       "    <tr>\n",
       "      <td>2006-01-02</td>\n",
       "      <td>1380.521</td>\n",
       "      <td>NaN</td>\n",
       "      <td>NaN</td>\n",
       "      <td>NaN</td>\n",
       "      <td>1</td>\n",
       "      <td>2006</td>\n",
       "    </tr>\n",
       "    <tr>\n",
       "      <td>2006-01-03</td>\n",
       "      <td>1442.533</td>\n",
       "      <td>NaN</td>\n",
       "      <td>NaN</td>\n",
       "      <td>NaN</td>\n",
       "      <td>1</td>\n",
       "      <td>2006</td>\n",
       "    </tr>\n",
       "    <tr>\n",
       "      <td>2006-01-04</td>\n",
       "      <td>1457.217</td>\n",
       "      <td>NaN</td>\n",
       "      <td>NaN</td>\n",
       "      <td>NaN</td>\n",
       "      <td>1</td>\n",
       "      <td>2006</td>\n",
       "    </tr>\n",
       "    <tr>\n",
       "      <td>2006-01-05</td>\n",
       "      <td>1477.131</td>\n",
       "      <td>NaN</td>\n",
       "      <td>NaN</td>\n",
       "      <td>NaN</td>\n",
       "      <td>1</td>\n",
       "      <td>2006</td>\n",
       "    </tr>\n",
       "  </tbody>\n",
       "</table>\n",
       "</div>"
      ],
      "text/plain": [
       "            Consumption  Wind  Solar  Wind+Solar  Month  Year\n",
       "Date                                                         \n",
       "2006-01-01     1069.184   NaN    NaN         NaN      1  2006\n",
       "2006-01-02     1380.521   NaN    NaN         NaN      1  2006\n",
       "2006-01-03     1442.533   NaN    NaN         NaN      1  2006\n",
       "2006-01-04     1457.217   NaN    NaN         NaN      1  2006\n",
       "2006-01-05     1477.131   NaN    NaN         NaN      1  2006"
      ]
     },
     "execution_count": 17,
     "metadata": {},
     "output_type": "execute_result"
    }
   ],
   "source": [
    "# Create two new columns: month and year\n",
    "\n",
    "opsd_df['Month'] = opsd_df.index.month\n",
    "opsd_df['Year'] = opsd_df.index.year\n",
    "opsd_df.head()"
   ]
  },
  {
   "cell_type": "markdown",
   "metadata": {},
   "source": [
    "### 5. Fill any missing values."
   ]
  },
  {
   "cell_type": "code",
   "execution_count": 18,
   "metadata": {},
   "outputs": [
    {
     "data": {
      "text/plain": [
       "Consumption    0\n",
       "Wind           0\n",
       "Solar          0\n",
       "Wind+Solar     0\n",
       "Month          0\n",
       "Year           0\n",
       "dtype: int64"
      ]
     },
     "execution_count": 18,
     "metadata": {},
     "output_type": "execute_result"
    }
   ],
   "source": [
    "# Use fillna to address nulls/NaNs\n",
    "\n",
    "opsd_df = opsd_df.fillna(0)\n",
    "opsd_df.isna().sum()"
   ]
  },
  {
   "cell_type": "markdown",
   "metadata": {},
   "source": [
    "### 6. Make sure all the work that you have done is reproducible. "
   ]
  },
  {
   "cell_type": "code",
   "execution_count": 19,
   "metadata": {},
   "outputs": [
    {
     "data": {
      "image/png": "[encoded data removed]",
      "text/plain": [
       "<Figure size 432x288 with 1 Axes>"
      ]
     },
     "metadata": {
      "needs_background": "light"
     },
     "output_type": "display_data"
    },
    {
     "data": {
      "image/png": "[encoded data removed]",
      "text/plain": [
       "<Figure size 432x288 with 1 Axes>"
      ]
     },
     "metadata": {
      "needs_background": "light"
     },
     "output_type": "display_data"
    },
    {
     "data": {
      "image/png": "[encoded data removed]",
      "text/plain": [
       "<Figure size 432x288 with 1 Axes>"
      ]
     },
     "metadata": {
      "needs_background": "light"
     },
     "output_type": "display_data"
    },
    {
     "data": {
      "image/png": "[encoded data removed]",
      "text/plain": [
       "<Figure size 432x288 with 1 Axes>"
      ]
     },
     "metadata": {
      "needs_background": "light"
     },
     "output_type": "display_data"
    },
    {
     "name": "stdout",
     "output_type": "stream",
     "text": [
      "            Consumption  Wind  Solar  WindSolar  month  year\n",
      "Date                                                        \n",
      "2006-01-01     1069.184   0.0    0.0        0.0      1  2006\n",
      "2006-01-02     1380.521   0.0    0.0        0.0      1  2006\n",
      "2006-01-03     1442.533   0.0    0.0        0.0      1  2006\n",
      "2006-01-04     1457.217   0.0    0.0        0.0      1  2006\n",
      "2006-01-05     1477.131   0.0    0.0        0.0      1  2006\n"
     ]
    }
   ],
   "source": [
    "opsd2_df = acquire.opsd_germany_daily()\n",
    "opsd3_df = prepare.prep_germany_data(opsd2_df)"
   ]
  },
  {
   "cell_type": "code",
   "execution_count": null,
   "metadata": {},
   "outputs": [],
   "source": []
  }
 ],
 "metadata": {
  "kernelspec": {
   "display_name": "Python 3",
   "language": "python",
   "name": "python3"
  },
  "language_info": {
   "codemirror_mode": {
    "name": "ipython",
    "version": 3
   },
   "file_extension": ".py",
   "mimetype": "text/x-python",
   "name": "python",
   "nbconvert_exporter": "python",
   "pygments_lexer": "ipython3",
   "version": "3.7.4"
  }
 },
 "nbformat": 4,
 "nbformat_minor": 4
}
